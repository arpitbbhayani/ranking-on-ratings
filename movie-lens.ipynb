{
 "cells": [
  {
   "cell_type": "markdown",
   "metadata": {},
   "source": [
    "# Top 10 movies of all time\n",
    "\n",
    "Given [MovieLens dataset](https://grouplens.org/datasets/movielens/) we rank movies using following aggregation strategies\n",
    "\n",
    " - Arithmetic Average\n",
    " - Artihmetic Average with number of reviews\n",
    " - Cumulative Rating\n",
    " - Bayesian Average\n",
    "\n",
    "A detail blog post has been compiled on the findings; and you can find it at [Solving an age-old problem with Bayesian Average](https://arpitbhayani.me/blogs/bayesian-average)."
   ]
  },
  {
   "cell_type": "code",
   "execution_count": 1,
   "metadata": {},
   "outputs": [],
   "source": [
    "import random\n",
    "import pandas as pd"
   ]
  },
  {
   "cell_type": "code",
   "execution_count": 2,
   "metadata": {},
   "outputs": [],
   "source": [
    "df = pd.read_csv(\"./ml-latest-small/ratings.csv\")\n",
    "ndf = pd.read_csv(\"./ml-latest-small/movies.csv\")"
   ]
  },
  {
   "cell_type": "code",
   "execution_count": 3,
   "metadata": {},
   "outputs": [],
   "source": [
    "ndf = ndf.drop('genres', axis=1)"
   ]
  },
  {
   "cell_type": "code",
   "execution_count": 4,
   "metadata": {},
   "outputs": [],
   "source": [
    "ndf = ndf.set_index('movieId')"
   ]
  },
  {
   "cell_type": "code",
   "execution_count": 5,
   "metadata": {},
   "outputs": [
    {
     "data": {
      "text/html": [
       "<div>\n",
       "<style scoped>\n",
       "    .dataframe tbody tr th:only-of-type {\n",
       "        vertical-align: middle;\n",
       "    }\n",
       "\n",
       "    .dataframe tbody tr th {\n",
       "        vertical-align: top;\n",
       "    }\n",
       "\n",
       "    .dataframe thead th {\n",
       "        text-align: right;\n",
       "    }\n",
       "</style>\n",
       "<table border=\"1\" class=\"dataframe\">\n",
       "  <thead>\n",
       "    <tr style=\"text-align: right;\">\n",
       "      <th></th>\n",
       "      <th>userId</th>\n",
       "      <th>movieId</th>\n",
       "      <th>rating</th>\n",
       "      <th>timestamp</th>\n",
       "    </tr>\n",
       "  </thead>\n",
       "  <tbody>\n",
       "    <tr>\n",
       "      <th>0</th>\n",
       "      <td>1</td>\n",
       "      <td>1</td>\n",
       "      <td>4.0</td>\n",
       "      <td>964982703</td>\n",
       "    </tr>\n",
       "    <tr>\n",
       "      <th>1</th>\n",
       "      <td>1</td>\n",
       "      <td>3</td>\n",
       "      <td>4.0</td>\n",
       "      <td>964981247</td>\n",
       "    </tr>\n",
       "    <tr>\n",
       "      <th>2</th>\n",
       "      <td>1</td>\n",
       "      <td>6</td>\n",
       "      <td>4.0</td>\n",
       "      <td>964982224</td>\n",
       "    </tr>\n",
       "    <tr>\n",
       "      <th>3</th>\n",
       "      <td>1</td>\n",
       "      <td>47</td>\n",
       "      <td>5.0</td>\n",
       "      <td>964983815</td>\n",
       "    </tr>\n",
       "    <tr>\n",
       "      <th>4</th>\n",
       "      <td>1</td>\n",
       "      <td>50</td>\n",
       "      <td>5.0</td>\n",
       "      <td>964982931</td>\n",
       "    </tr>\n",
       "  </tbody>\n",
       "</table>\n",
       "</div>"
      ],
      "text/plain": [
       "   userId  movieId  rating  timestamp\n",
       "0       1        1     4.0  964982703\n",
       "1       1        3     4.0  964981247\n",
       "2       1        6     4.0  964982224\n",
       "3       1       47     5.0  964983815\n",
       "4       1       50     5.0  964982931"
      ]
     },
     "execution_count": 5,
     "metadata": {},
     "output_type": "execute_result"
    }
   ],
   "source": [
    "df.head()"
   ]
  },
  {
   "cell_type": "code",
   "execution_count": 6,
   "metadata": {},
   "outputs": [
    {
     "data": {
      "text/html": [
       "<div>\n",
       "<style scoped>\n",
       "    .dataframe tbody tr th:only-of-type {\n",
       "        vertical-align: middle;\n",
       "    }\n",
       "\n",
       "    .dataframe tbody tr th {\n",
       "        vertical-align: top;\n",
       "    }\n",
       "\n",
       "    .dataframe thead th {\n",
       "        text-align: right;\n",
       "    }\n",
       "</style>\n",
       "<table border=\"1\" class=\"dataframe\">\n",
       "  <thead>\n",
       "    <tr style=\"text-align: right;\">\n",
       "      <th></th>\n",
       "      <th>title</th>\n",
       "    </tr>\n",
       "    <tr>\n",
       "      <th>movieId</th>\n",
       "      <th></th>\n",
       "    </tr>\n",
       "  </thead>\n",
       "  <tbody>\n",
       "    <tr>\n",
       "      <th>1</th>\n",
       "      <td>Toy Story (1995)</td>\n",
       "    </tr>\n",
       "    <tr>\n",
       "      <th>2</th>\n",
       "      <td>Jumanji (1995)</td>\n",
       "    </tr>\n",
       "    <tr>\n",
       "      <th>3</th>\n",
       "      <td>Grumpier Old Men (1995)</td>\n",
       "    </tr>\n",
       "    <tr>\n",
       "      <th>4</th>\n",
       "      <td>Waiting to Exhale (1995)</td>\n",
       "    </tr>\n",
       "    <tr>\n",
       "      <th>5</th>\n",
       "      <td>Father of the Bride Part II (1995)</td>\n",
       "    </tr>\n",
       "  </tbody>\n",
       "</table>\n",
       "</div>"
      ],
      "text/plain": [
       "                                      title\n",
       "movieId                                    \n",
       "1                          Toy Story (1995)\n",
       "2                            Jumanji (1995)\n",
       "3                   Grumpier Old Men (1995)\n",
       "4                  Waiting to Exhale (1995)\n",
       "5        Father of the Bride Part II (1995)"
      ]
     },
     "execution_count": 6,
     "metadata": {},
     "output_type": "execute_result"
    }
   ],
   "source": [
    "ndf.head()"
   ]
  },
  {
   "cell_type": "code",
   "execution_count": 7,
   "metadata": {},
   "outputs": [],
   "source": [
    "MOVIE_ID = 119145"
   ]
  },
  {
   "cell_type": "code",
   "execution_count": 8,
   "metadata": {},
   "outputs": [],
   "source": [
    "all_aa_ratings_count_df = pd.DataFrame(df.groupby('movieId')[\"rating\"].count())\n",
    "all_aa_ratings_count_df.rename(columns = {'rating':'ratings_count'}, inplace = True)"
   ]
  },
  {
   "cell_type": "code",
   "execution_count": 9,
   "metadata": {},
   "outputs": [],
   "source": [
    "all_aa = df.groupby('movieId').mean()"
   ]
  },
  {
   "cell_type": "code",
   "execution_count": 10,
   "metadata": {},
   "outputs": [],
   "source": [
    "all_aa = all_aa.join(ndf).join(all_aa_ratings_count_df)"
   ]
  },
  {
   "cell_type": "code",
   "execution_count": 11,
   "metadata": {},
   "outputs": [],
   "source": [
    "all_aa = all_aa.drop(['userId', 'timestamp'], axis=1)"
   ]
  },
  {
   "cell_type": "markdown",
   "metadata": {},
   "source": [
    "## Ranking movies on arithmetic mean (average)"
   ]
  },
  {
   "cell_type": "code",
   "execution_count": 12,
   "metadata": {},
   "outputs": [],
   "source": [
    "all_aa1 = all_aa.sort_values(['rating'], ascending=False)"
   ]
  },
  {
   "cell_type": "code",
   "execution_count": 13,
   "metadata": {},
   "outputs": [],
   "source": [
    "all_aa1['rank'] = all_aa1.rating.rank(pct=True, ascending=True)"
   ]
  },
  {
   "cell_type": "code",
   "execution_count": 14,
   "metadata": {},
   "outputs": [
    {
     "data": {
      "text/html": [
       "<div>\n",
       "<style scoped>\n",
       "    .dataframe tbody tr th:only-of-type {\n",
       "        vertical-align: middle;\n",
       "    }\n",
       "\n",
       "    .dataframe tbody tr th {\n",
       "        vertical-align: top;\n",
       "    }\n",
       "\n",
       "    .dataframe thead th {\n",
       "        text-align: right;\n",
       "    }\n",
       "</style>\n",
       "<table border=\"1\" class=\"dataframe\">\n",
       "  <thead>\n",
       "    <tr style=\"text-align: right;\">\n",
       "      <th></th>\n",
       "      <th>rating</th>\n",
       "      <th>title</th>\n",
       "      <th>ratings_count</th>\n",
       "      <th>rank</th>\n",
       "    </tr>\n",
       "    <tr>\n",
       "      <th>movieId</th>\n",
       "      <th></th>\n",
       "      <th></th>\n",
       "      <th></th>\n",
       "      <th></th>\n",
       "    </tr>\n",
       "  </thead>\n",
       "  <tbody>\n",
       "    <tr>\n",
       "      <th>88448</th>\n",
       "      <td>5.0</td>\n",
       "      <td>Paper Birds (Pájaros de papel) (2010)</td>\n",
       "      <td>1</td>\n",
       "      <td>0.984831</td>\n",
       "    </tr>\n",
       "    <tr>\n",
       "      <th>100556</th>\n",
       "      <td>5.0</td>\n",
       "      <td>Act of Killing, The (2012)</td>\n",
       "      <td>1</td>\n",
       "      <td>0.984831</td>\n",
       "    </tr>\n",
       "    <tr>\n",
       "      <th>143031</th>\n",
       "      <td>5.0</td>\n",
       "      <td>Jump In! (2007)</td>\n",
       "      <td>1</td>\n",
       "      <td>0.984831</td>\n",
       "    </tr>\n",
       "    <tr>\n",
       "      <th>143511</th>\n",
       "      <td>5.0</td>\n",
       "      <td>Human (2015)</td>\n",
       "      <td>1</td>\n",
       "      <td>0.984831</td>\n",
       "    </tr>\n",
       "    <tr>\n",
       "      <th>143559</th>\n",
       "      <td>5.0</td>\n",
       "      <td>L.A. Slasher (2015)</td>\n",
       "      <td>1</td>\n",
       "      <td>0.984831</td>\n",
       "    </tr>\n",
       "    <tr>\n",
       "      <th>6201</th>\n",
       "      <td>5.0</td>\n",
       "      <td>Lady Jane (1986)</td>\n",
       "      <td>1</td>\n",
       "      <td>0.984831</td>\n",
       "    </tr>\n",
       "    <tr>\n",
       "      <th>102217</th>\n",
       "      <td>5.0</td>\n",
       "      <td>Bill Hicks: Revelations (1993)</td>\n",
       "      <td>1</td>\n",
       "      <td>0.984831</td>\n",
       "    </tr>\n",
       "    <tr>\n",
       "      <th>102084</th>\n",
       "      <td>5.0</td>\n",
       "      <td>Justice League: Doom (2012)</td>\n",
       "      <td>1</td>\n",
       "      <td>0.984831</td>\n",
       "    </tr>\n",
       "    <tr>\n",
       "      <th>6192</th>\n",
       "      <td>5.0</td>\n",
       "      <td>Open Hearts (Elsker dig for evigt) (2002)</td>\n",
       "      <td>1</td>\n",
       "      <td>0.984831</td>\n",
       "    </tr>\n",
       "    <tr>\n",
       "      <th>145994</th>\n",
       "      <td>5.0</td>\n",
       "      <td>Formula of Love (1984)</td>\n",
       "      <td>1</td>\n",
       "      <td>0.984831</td>\n",
       "    </tr>\n",
       "  </tbody>\n",
       "</table>\n",
       "</div>"
      ],
      "text/plain": [
       "         rating                                      title  ratings_count  \\\n",
       "movieId                                                                     \n",
       "88448       5.0      Paper Birds (Pájaros de papel) (2010)              1   \n",
       "100556      5.0                 Act of Killing, The (2012)              1   \n",
       "143031      5.0                            Jump In! (2007)              1   \n",
       "143511      5.0                               Human (2015)              1   \n",
       "143559      5.0                        L.A. Slasher (2015)              1   \n",
       "6201        5.0                           Lady Jane (1986)              1   \n",
       "102217      5.0             Bill Hicks: Revelations (1993)              1   \n",
       "102084      5.0               Justice League: Doom (2012)               1   \n",
       "6192        5.0  Open Hearts (Elsker dig for evigt) (2002)              1   \n",
       "145994      5.0                     Formula of Love (1984)              1   \n",
       "\n",
       "             rank  \n",
       "movieId            \n",
       "88448    0.984831  \n",
       "100556   0.984831  \n",
       "143031   0.984831  \n",
       "143511   0.984831  \n",
       "143559   0.984831  \n",
       "6201     0.984831  \n",
       "102217   0.984831  \n",
       "102084   0.984831  \n",
       "6192     0.984831  \n",
       "145994   0.984831  "
      ]
     },
     "execution_count": 14,
     "metadata": {},
     "output_type": "execute_result"
    }
   ],
   "source": [
    "all_aa1[:10]"
   ]
  },
  {
   "cell_type": "code",
   "execution_count": 15,
   "metadata": {},
   "outputs": [
    {
     "data": {
      "text/html": [
       "<div>\n",
       "<style scoped>\n",
       "    .dataframe tbody tr th:only-of-type {\n",
       "        vertical-align: middle;\n",
       "    }\n",
       "\n",
       "    .dataframe tbody tr th {\n",
       "        vertical-align: top;\n",
       "    }\n",
       "\n",
       "    .dataframe thead th {\n",
       "        text-align: right;\n",
       "    }\n",
       "</style>\n",
       "<table border=\"1\" class=\"dataframe\">\n",
       "  <thead>\n",
       "    <tr style=\"text-align: right;\">\n",
       "      <th></th>\n",
       "      <th>rating</th>\n",
       "      <th>title</th>\n",
       "      <th>ratings_count</th>\n",
       "      <th>rank</th>\n",
       "    </tr>\n",
       "    <tr>\n",
       "      <th>movieId</th>\n",
       "      <th></th>\n",
       "      <th></th>\n",
       "      <th></th>\n",
       "      <th></th>\n",
       "    </tr>\n",
       "  </thead>\n",
       "  <tbody>\n",
       "    <tr>\n",
       "      <th>119145</th>\n",
       "      <td>3.986111</td>\n",
       "      <td>Kingsman: The Secret Service (2015)</td>\n",
       "      <td>36</td>\n",
       "      <td>0.765631</td>\n",
       "    </tr>\n",
       "  </tbody>\n",
       "</table>\n",
       "</div>"
      ],
      "text/plain": [
       "           rating                                title  ratings_count  \\\n",
       "movieId                                                                 \n",
       "119145   3.986111  Kingsman: The Secret Service (2015)             36   \n",
       "\n",
       "             rank  \n",
       "movieId            \n",
       "119145   0.765631  "
      ]
     },
     "execution_count": 15,
     "metadata": {},
     "output_type": "execute_result"
    }
   ],
   "source": [
    "all_aa1[all_aa1.index == MOVIE_ID]"
   ]
  },
  {
   "cell_type": "markdown",
   "metadata": {},
   "source": [
    "## Ranking movies on arithmetic mean and ratings count"
   ]
  },
  {
   "cell_type": "code",
   "execution_count": 16,
   "metadata": {},
   "outputs": [],
   "source": [
    "all_aa2 = all_aa.sort_values(['rating', 'ratings_count'], ascending=False)"
   ]
  },
  {
   "cell_type": "code",
   "execution_count": 17,
   "metadata": {},
   "outputs": [],
   "source": [
    "all_aa2['rank'] = all_aa2.rating.rank(pct=True, ascending=True)"
   ]
  },
  {
   "cell_type": "code",
   "execution_count": 18,
   "metadata": {},
   "outputs": [
    {
     "data": {
      "text/html": [
       "<div>\n",
       "<style scoped>\n",
       "    .dataframe tbody tr th:only-of-type {\n",
       "        vertical-align: middle;\n",
       "    }\n",
       "\n",
       "    .dataframe tbody tr th {\n",
       "        vertical-align: top;\n",
       "    }\n",
       "\n",
       "    .dataframe thead th {\n",
       "        text-align: right;\n",
       "    }\n",
       "</style>\n",
       "<table border=\"1\" class=\"dataframe\">\n",
       "  <thead>\n",
       "    <tr style=\"text-align: right;\">\n",
       "      <th></th>\n",
       "      <th>rating</th>\n",
       "      <th>title</th>\n",
       "      <th>ratings_count</th>\n",
       "      <th>rank</th>\n",
       "    </tr>\n",
       "    <tr>\n",
       "      <th>movieId</th>\n",
       "      <th></th>\n",
       "      <th></th>\n",
       "      <th></th>\n",
       "      <th></th>\n",
       "    </tr>\n",
       "  </thead>\n",
       "  <tbody>\n",
       "    <tr>\n",
       "      <th>53</th>\n",
       "      <td>5.0</td>\n",
       "      <td>Lamerica (1994)</td>\n",
       "      <td>2</td>\n",
       "      <td>0.984831</td>\n",
       "    </tr>\n",
       "    <tr>\n",
       "      <th>99</th>\n",
       "      <td>5.0</td>\n",
       "      <td>Heidi Fleiss: Hollywood Madam (1995)</td>\n",
       "      <td>2</td>\n",
       "      <td>0.984831</td>\n",
       "    </tr>\n",
       "    <tr>\n",
       "      <th>1151</th>\n",
       "      <td>5.0</td>\n",
       "      <td>Lesson Faust (1994)</td>\n",
       "      <td>2</td>\n",
       "      <td>0.984831</td>\n",
       "    </tr>\n",
       "    <tr>\n",
       "      <th>3473</th>\n",
       "      <td>5.0</td>\n",
       "      <td>Jonah Who Will Be 25 in the Year 2000 (Jonas q...</td>\n",
       "      <td>2</td>\n",
       "      <td>0.984831</td>\n",
       "    </tr>\n",
       "    <tr>\n",
       "      <th>6442</th>\n",
       "      <td>5.0</td>\n",
       "      <td>Belle époque (1992)</td>\n",
       "      <td>2</td>\n",
       "      <td>0.984831</td>\n",
       "    </tr>\n",
       "    <tr>\n",
       "      <th>6818</th>\n",
       "      <td>5.0</td>\n",
       "      <td>Come and See (Idi i smotri) (1985)</td>\n",
       "      <td>2</td>\n",
       "      <td>0.984831</td>\n",
       "    </tr>\n",
       "    <tr>\n",
       "      <th>78836</th>\n",
       "      <td>5.0</td>\n",
       "      <td>Enter the Void (2009)</td>\n",
       "      <td>2</td>\n",
       "      <td>0.984831</td>\n",
       "    </tr>\n",
       "    <tr>\n",
       "      <th>148</th>\n",
       "      <td>5.0</td>\n",
       "      <td>Awfully Big Adventure, An (1995)</td>\n",
       "      <td>1</td>\n",
       "      <td>0.984831</td>\n",
       "    </tr>\n",
       "    <tr>\n",
       "      <th>467</th>\n",
       "      <td>5.0</td>\n",
       "      <td>Live Nude Girls (1995)</td>\n",
       "      <td>1</td>\n",
       "      <td>0.984831</td>\n",
       "    </tr>\n",
       "    <tr>\n",
       "      <th>495</th>\n",
       "      <td>5.0</td>\n",
       "      <td>In the Realm of the Senses (Ai no corrida) (1976)</td>\n",
       "      <td>1</td>\n",
       "      <td>0.984831</td>\n",
       "    </tr>\n",
       "  </tbody>\n",
       "</table>\n",
       "</div>"
      ],
      "text/plain": [
       "         rating                                              title  \\\n",
       "movieId                                                              \n",
       "53          5.0                                    Lamerica (1994)   \n",
       "99          5.0               Heidi Fleiss: Hollywood Madam (1995)   \n",
       "1151        5.0                                Lesson Faust (1994)   \n",
       "3473        5.0  Jonah Who Will Be 25 in the Year 2000 (Jonas q...   \n",
       "6442        5.0                                Belle époque (1992)   \n",
       "6818        5.0                 Come and See (Idi i smotri) (1985)   \n",
       "78836       5.0                              Enter the Void (2009)   \n",
       "148         5.0                   Awfully Big Adventure, An (1995)   \n",
       "467         5.0                             Live Nude Girls (1995)   \n",
       "495         5.0  In the Realm of the Senses (Ai no corrida) (1976)   \n",
       "\n",
       "         ratings_count      rank  \n",
       "movieId                           \n",
       "53                   2  0.984831  \n",
       "99                   2  0.984831  \n",
       "1151                 2  0.984831  \n",
       "3473                 2  0.984831  \n",
       "6442                 2  0.984831  \n",
       "6818                 2  0.984831  \n",
       "78836                2  0.984831  \n",
       "148                  1  0.984831  \n",
       "467                  1  0.984831  \n",
       "495                  1  0.984831  "
      ]
     },
     "execution_count": 18,
     "metadata": {},
     "output_type": "execute_result"
    }
   ],
   "source": [
    "all_aa2[:10]"
   ]
  },
  {
   "cell_type": "code",
   "execution_count": 19,
   "metadata": {},
   "outputs": [
    {
     "data": {
      "text/html": [
       "<div>\n",
       "<style scoped>\n",
       "    .dataframe tbody tr th:only-of-type {\n",
       "        vertical-align: middle;\n",
       "    }\n",
       "\n",
       "    .dataframe tbody tr th {\n",
       "        vertical-align: top;\n",
       "    }\n",
       "\n",
       "    .dataframe thead th {\n",
       "        text-align: right;\n",
       "    }\n",
       "</style>\n",
       "<table border=\"1\" class=\"dataframe\">\n",
       "  <thead>\n",
       "    <tr style=\"text-align: right;\">\n",
       "      <th></th>\n",
       "      <th>rating</th>\n",
       "      <th>title</th>\n",
       "      <th>ratings_count</th>\n",
       "      <th>rank</th>\n",
       "    </tr>\n",
       "    <tr>\n",
       "      <th>movieId</th>\n",
       "      <th></th>\n",
       "      <th></th>\n",
       "      <th></th>\n",
       "      <th></th>\n",
       "    </tr>\n",
       "  </thead>\n",
       "  <tbody>\n",
       "    <tr>\n",
       "      <th>119145</th>\n",
       "      <td>3.986111</td>\n",
       "      <td>Kingsman: The Secret Service (2015)</td>\n",
       "      <td>36</td>\n",
       "      <td>0.765631</td>\n",
       "    </tr>\n",
       "  </tbody>\n",
       "</table>\n",
       "</div>"
      ],
      "text/plain": [
       "           rating                                title  ratings_count  \\\n",
       "movieId                                                                 \n",
       "119145   3.986111  Kingsman: The Secret Service (2015)             36   \n",
       "\n",
       "             rank  \n",
       "movieId            \n",
       "119145   0.765631  "
      ]
     },
     "execution_count": 19,
     "metadata": {},
     "output_type": "execute_result"
    }
   ],
   "source": [
    "all_aa2[all_aa2.index == MOVIE_ID]"
   ]
  },
  {
   "cell_type": "markdown",
   "metadata": {},
   "source": [
    "## Ranking on cumulative score\n"
   ]
  },
  {
   "cell_type": "code",
   "execution_count": 20,
   "metadata": {},
   "outputs": [],
   "source": [
    "all_ca1 = df.groupby('movieId').sum().sort_values(['rating'], ascending=False)"
   ]
  },
  {
   "cell_type": "code",
   "execution_count": 21,
   "metadata": {},
   "outputs": [],
   "source": [
    "all_ca1 = all_ca1.drop(['userId', 'timestamp'], axis=1)"
   ]
  },
  {
   "cell_type": "code",
   "execution_count": 22,
   "metadata": {},
   "outputs": [],
   "source": [
    "all_ca1['rank'] = all_ca1.rating.rank(pct=True, ascending=True)"
   ]
  },
  {
   "cell_type": "code",
   "execution_count": 23,
   "metadata": {},
   "outputs": [],
   "source": [
    "all_ca1 = all_ca1.join(ndf).join(all_aa_ratings_count_df)"
   ]
  },
  {
   "cell_type": "code",
   "execution_count": 24,
   "metadata": {},
   "outputs": [
    {
     "data": {
      "text/html": [
       "<div>\n",
       "<style scoped>\n",
       "    .dataframe tbody tr th:only-of-type {\n",
       "        vertical-align: middle;\n",
       "    }\n",
       "\n",
       "    .dataframe tbody tr th {\n",
       "        vertical-align: top;\n",
       "    }\n",
       "\n",
       "    .dataframe thead th {\n",
       "        text-align: right;\n",
       "    }\n",
       "</style>\n",
       "<table border=\"1\" class=\"dataframe\">\n",
       "  <thead>\n",
       "    <tr style=\"text-align: right;\">\n",
       "      <th></th>\n",
       "      <th>rating</th>\n",
       "      <th>rank</th>\n",
       "      <th>title</th>\n",
       "      <th>ratings_count</th>\n",
       "    </tr>\n",
       "    <tr>\n",
       "      <th>movieId</th>\n",
       "      <th></th>\n",
       "      <th></th>\n",
       "      <th></th>\n",
       "      <th></th>\n",
       "    </tr>\n",
       "  </thead>\n",
       "  <tbody>\n",
       "    <tr>\n",
       "      <th>318</th>\n",
       "      <td>1404.0</td>\n",
       "      <td>1.000000</td>\n",
       "      <td>Shawshank Redemption, The (1994)</td>\n",
       "      <td>317</td>\n",
       "    </tr>\n",
       "    <tr>\n",
       "      <th>356</th>\n",
       "      <td>1370.0</td>\n",
       "      <td>0.999897</td>\n",
       "      <td>Forrest Gump (1994)</td>\n",
       "      <td>329</td>\n",
       "    </tr>\n",
       "    <tr>\n",
       "      <th>296</th>\n",
       "      <td>1288.5</td>\n",
       "      <td>0.999794</td>\n",
       "      <td>Pulp Fiction (1994)</td>\n",
       "      <td>307</td>\n",
       "    </tr>\n",
       "    <tr>\n",
       "      <th>2571</th>\n",
       "      <td>1165.5</td>\n",
       "      <td>0.999691</td>\n",
       "      <td>Matrix, The (1999)</td>\n",
       "      <td>278</td>\n",
       "    </tr>\n",
       "    <tr>\n",
       "      <th>593</th>\n",
       "      <td>1161.0</td>\n",
       "      <td>0.999589</td>\n",
       "      <td>Silence of the Lambs, The (1991)</td>\n",
       "      <td>279</td>\n",
       "    </tr>\n",
       "    <tr>\n",
       "      <th>260</th>\n",
       "      <td>1062.0</td>\n",
       "      <td>0.999486</td>\n",
       "      <td>Star Wars: Episode IV - A New Hope (1977)</td>\n",
       "      <td>251</td>\n",
       "    </tr>\n",
       "    <tr>\n",
       "      <th>110</th>\n",
       "      <td>955.5</td>\n",
       "      <td>0.999383</td>\n",
       "      <td>Braveheart (1995)</td>\n",
       "      <td>237</td>\n",
       "    </tr>\n",
       "    <tr>\n",
       "      <th>2959</th>\n",
       "      <td>931.5</td>\n",
       "      <td>0.999280</td>\n",
       "      <td>Fight Club (1999)</td>\n",
       "      <td>218</td>\n",
       "    </tr>\n",
       "    <tr>\n",
       "      <th>527</th>\n",
       "      <td>929.5</td>\n",
       "      <td>0.999177</td>\n",
       "      <td>Schindler's List (1993)</td>\n",
       "      <td>220</td>\n",
       "    </tr>\n",
       "    <tr>\n",
       "      <th>480</th>\n",
       "      <td>892.5</td>\n",
       "      <td>0.999074</td>\n",
       "      <td>Jurassic Park (1993)</td>\n",
       "      <td>238</td>\n",
       "    </tr>\n",
       "  </tbody>\n",
       "</table>\n",
       "</div>"
      ],
      "text/plain": [
       "         rating      rank                                      title  \\\n",
       "movieId                                                                \n",
       "318      1404.0  1.000000           Shawshank Redemption, The (1994)   \n",
       "356      1370.0  0.999897                        Forrest Gump (1994)   \n",
       "296      1288.5  0.999794                        Pulp Fiction (1994)   \n",
       "2571     1165.5  0.999691                         Matrix, The (1999)   \n",
       "593      1161.0  0.999589           Silence of the Lambs, The (1991)   \n",
       "260      1062.0  0.999486  Star Wars: Episode IV - A New Hope (1977)   \n",
       "110       955.5  0.999383                          Braveheart (1995)   \n",
       "2959      931.5  0.999280                          Fight Club (1999)   \n",
       "527       929.5  0.999177                    Schindler's List (1993)   \n",
       "480       892.5  0.999074                       Jurassic Park (1993)   \n",
       "\n",
       "         ratings_count  \n",
       "movieId                 \n",
       "318                317  \n",
       "356                329  \n",
       "296                307  \n",
       "2571               278  \n",
       "593                279  \n",
       "260                251  \n",
       "110                237  \n",
       "2959               218  \n",
       "527                220  \n",
       "480                238  "
      ]
     },
     "execution_count": 24,
     "metadata": {},
     "output_type": "execute_result"
    }
   ],
   "source": [
    "all_ca1[:10]"
   ]
  },
  {
   "cell_type": "code",
   "execution_count": 25,
   "metadata": {},
   "outputs": [
    {
     "data": {
      "text/html": [
       "<div>\n",
       "<style scoped>\n",
       "    .dataframe tbody tr th:only-of-type {\n",
       "        vertical-align: middle;\n",
       "    }\n",
       "\n",
       "    .dataframe tbody tr th {\n",
       "        vertical-align: top;\n",
       "    }\n",
       "\n",
       "    .dataframe thead th {\n",
       "        text-align: right;\n",
       "    }\n",
       "</style>\n",
       "<table border=\"1\" class=\"dataframe\">\n",
       "  <thead>\n",
       "    <tr style=\"text-align: right;\">\n",
       "      <th></th>\n",
       "      <th>rating</th>\n",
       "      <th>rank</th>\n",
       "      <th>title</th>\n",
       "      <th>ratings_count</th>\n",
       "    </tr>\n",
       "    <tr>\n",
       "      <th>movieId</th>\n",
       "      <th></th>\n",
       "      <th></th>\n",
       "      <th></th>\n",
       "      <th></th>\n",
       "    </tr>\n",
       "  </thead>\n",
       "  <tbody>\n",
       "    <tr>\n",
       "      <th>119145</th>\n",
       "      <td>143.5</td>\n",
       "      <td>0.937937</td>\n",
       "      <td>Kingsman: The Secret Service (2015)</td>\n",
       "      <td>36</td>\n",
       "    </tr>\n",
       "  </tbody>\n",
       "</table>\n",
       "</div>"
      ],
      "text/plain": [
       "         rating      rank                                title  ratings_count\n",
       "movieId                                                                      \n",
       "119145    143.5  0.937937  Kingsman: The Secret Service (2015)             36"
      ]
     },
     "execution_count": 25,
     "metadata": {},
     "output_type": "execute_result"
    }
   ],
   "source": [
    "all_ca1[all_ca1.index == MOVIE_ID]"
   ]
  },
  {
   "cell_type": "markdown",
   "metadata": {},
   "source": [
    "## Ranking movies on Bayesian average"
   ]
  },
  {
   "cell_type": "code",
   "execution_count": 26,
   "metadata": {},
   "outputs": [],
   "source": [
    "avg_rating = df['rating'].mean()"
   ]
  },
  {
   "cell_type": "code",
   "execution_count": 27,
   "metadata": {},
   "outputs": [],
   "source": [
    "avg_count_rating = df.groupby(\"movieId\")['rating'].count().mean()"
   ]
  },
  {
   "cell_type": "code",
   "execution_count": 28,
   "metadata": {},
   "outputs": [],
   "source": [
    "count_ratings = df.groupby(\"movieId\").count()['rating']"
   ]
  },
  {
   "cell_type": "code",
   "execution_count": 29,
   "metadata": {},
   "outputs": [],
   "source": [
    "adf = pd.DataFrame(count_ratings, columns=['rating'])"
   ]
  },
  {
   "cell_type": "code",
   "execution_count": 30,
   "metadata": {},
   "outputs": [],
   "source": [
    "adf.rename(columns = {'rating':'ratings_count'}, inplace = True)"
   ]
  },
  {
   "cell_type": "code",
   "execution_count": 31,
   "metadata": {},
   "outputs": [],
   "source": [
    "adf['avg_rating'] = df.groupby('movieId').mean()['rating']"
   ]
  },
  {
   "cell_type": "code",
   "execution_count": 32,
   "metadata": {},
   "outputs": [],
   "source": [
    "adf['overall_avg_rating'] = avg_rating"
   ]
  },
  {
   "cell_type": "code",
   "execution_count": 33,
   "metadata": {},
   "outputs": [],
   "source": [
    "adf['overall_avg_count_rating'] = avg_count_rating"
   ]
  },
  {
   "cell_type": "code",
   "execution_count": 34,
   "metadata": {},
   "outputs": [],
   "source": [
    "adf['w'] = adf['ratings_count']/(adf['overall_avg_count_rating'] + adf['ratings_count'])"
   ]
  },
  {
   "cell_type": "code",
   "execution_count": 35,
   "metadata": {},
   "outputs": [],
   "source": [
    "adf['aa'] = all_aa.rating"
   ]
  },
  {
   "cell_type": "code",
   "execution_count": 36,
   "metadata": {},
   "outputs": [],
   "source": [
    "adf['ba'] = adf['w'] * adf['avg_rating'] + (1-adf['w']) * adf['overall_avg_rating']"
   ]
  },
  {
   "cell_type": "code",
   "execution_count": 37,
   "metadata": {},
   "outputs": [],
   "source": [
    "adf['rank'] = adf.ba.rank(pct=True, ascending=True)"
   ]
  },
  {
   "cell_type": "code",
   "execution_count": 38,
   "metadata": {},
   "outputs": [
    {
     "data": {
      "text/html": [
       "<div>\n",
       "<style scoped>\n",
       "    .dataframe tbody tr th:only-of-type {\n",
       "        vertical-align: middle;\n",
       "    }\n",
       "\n",
       "    .dataframe tbody tr th {\n",
       "        vertical-align: top;\n",
       "    }\n",
       "\n",
       "    .dataframe thead th {\n",
       "        text-align: right;\n",
       "    }\n",
       "</style>\n",
       "<table border=\"1\" class=\"dataframe\">\n",
       "  <thead>\n",
       "    <tr style=\"text-align: right;\">\n",
       "      <th></th>\n",
       "      <th>ratings_count</th>\n",
       "      <th>avg_rating</th>\n",
       "      <th>overall_avg_rating</th>\n",
       "      <th>overall_avg_count_rating</th>\n",
       "      <th>w</th>\n",
       "      <th>aa</th>\n",
       "      <th>ba</th>\n",
       "      <th>rank</th>\n",
       "      <th>title</th>\n",
       "    </tr>\n",
       "    <tr>\n",
       "      <th>movieId</th>\n",
       "      <th></th>\n",
       "      <th></th>\n",
       "      <th></th>\n",
       "      <th></th>\n",
       "      <th></th>\n",
       "      <th></th>\n",
       "      <th></th>\n",
       "      <th></th>\n",
       "      <th></th>\n",
       "    </tr>\n",
       "  </thead>\n",
       "  <tbody>\n",
       "    <tr>\n",
       "      <th>318</th>\n",
       "      <td>317</td>\n",
       "      <td>4.429022</td>\n",
       "      <td>3.501557</td>\n",
       "      <td>10.369807</td>\n",
       "      <td>0.968324</td>\n",
       "      <td>4.429022</td>\n",
       "      <td>4.399644</td>\n",
       "      <td>1.000000</td>\n",
       "      <td>Shawshank Redemption, The (1994)</td>\n",
       "    </tr>\n",
       "    <tr>\n",
       "      <th>858</th>\n",
       "      <td>192</td>\n",
       "      <td>4.289062</td>\n",
       "      <td>3.501557</td>\n",
       "      <td>10.369807</td>\n",
       "      <td>0.948758</td>\n",
       "      <td>4.289062</td>\n",
       "      <td>4.248709</td>\n",
       "      <td>0.999897</td>\n",
       "      <td>Godfather, The (1972)</td>\n",
       "    </tr>\n",
       "    <tr>\n",
       "      <th>2959</th>\n",
       "      <td>218</td>\n",
       "      <td>4.272936</td>\n",
       "      <td>3.501557</td>\n",
       "      <td>10.369807</td>\n",
       "      <td>0.954592</td>\n",
       "      <td>4.272936</td>\n",
       "      <td>4.237909</td>\n",
       "      <td>0.999794</td>\n",
       "      <td>Fight Club (1999)</td>\n",
       "    </tr>\n",
       "    <tr>\n",
       "      <th>1221</th>\n",
       "      <td>129</td>\n",
       "      <td>4.259690</td>\n",
       "      <td>3.501557</td>\n",
       "      <td>10.369807</td>\n",
       "      <td>0.925595</td>\n",
       "      <td>4.259690</td>\n",
       "      <td>4.203281</td>\n",
       "      <td>0.999691</td>\n",
       "      <td>Godfather: Part II, The (1974)</td>\n",
       "    </tr>\n",
       "    <tr>\n",
       "      <th>50</th>\n",
       "      <td>204</td>\n",
       "      <td>4.237745</td>\n",
       "      <td>3.501557</td>\n",
       "      <td>10.369807</td>\n",
       "      <td>0.951627</td>\n",
       "      <td>4.237745</td>\n",
       "      <td>4.202133</td>\n",
       "      <td>0.999589</td>\n",
       "      <td>Usual Suspects, The (1995)</td>\n",
       "    </tr>\n",
       "    <tr>\n",
       "      <th>260</th>\n",
       "      <td>251</td>\n",
       "      <td>4.231076</td>\n",
       "      <td>3.501557</td>\n",
       "      <td>10.369807</td>\n",
       "      <td>0.960325</td>\n",
       "      <td>4.231076</td>\n",
       "      <td>4.202132</td>\n",
       "      <td>0.999486</td>\n",
       "      <td>Star Wars: Episode IV - A New Hope (1977)</td>\n",
       "    </tr>\n",
       "    <tr>\n",
       "      <th>750</th>\n",
       "      <td>97</td>\n",
       "      <td>4.268041</td>\n",
       "      <td>3.501557</td>\n",
       "      <td>10.369807</td>\n",
       "      <td>0.903420</td>\n",
       "      <td>4.268041</td>\n",
       "      <td>4.194014</td>\n",
       "      <td>0.999383</td>\n",
       "      <td>Dr. Strangelove or: How I Learned to Stop Worr...</td>\n",
       "    </tr>\n",
       "    <tr>\n",
       "      <th>1213</th>\n",
       "      <td>126</td>\n",
       "      <td>4.250000</td>\n",
       "      <td>3.501557</td>\n",
       "      <td>10.369807</td>\n",
       "      <td>0.923958</td>\n",
       "      <td>4.250000</td>\n",
       "      <td>4.193087</td>\n",
       "      <td>0.999280</td>\n",
       "      <td>Goodfellas (1990)</td>\n",
       "    </tr>\n",
       "    <tr>\n",
       "      <th>527</th>\n",
       "      <td>220</td>\n",
       "      <td>4.225000</td>\n",
       "      <td>3.501557</td>\n",
       "      <td>10.369807</td>\n",
       "      <td>0.954986</td>\n",
       "      <td>4.225000</td>\n",
       "      <td>4.192435</td>\n",
       "      <td>0.999177</td>\n",
       "      <td>Schindler's List (1993)</td>\n",
       "    </tr>\n",
       "    <tr>\n",
       "      <th>58559</th>\n",
       "      <td>149</td>\n",
       "      <td>4.238255</td>\n",
       "      <td>3.501557</td>\n",
       "      <td>10.369807</td>\n",
       "      <td>0.934932</td>\n",
       "      <td>4.238255</td>\n",
       "      <td>4.190320</td>\n",
       "      <td>0.999074</td>\n",
       "      <td>Dark Knight, The (2008)</td>\n",
       "    </tr>\n",
       "  </tbody>\n",
       "</table>\n",
       "</div>"
      ],
      "text/plain": [
       "         ratings_count  avg_rating  overall_avg_rating  \\\n",
       "movieId                                                  \n",
       "318                317    4.429022            3.501557   \n",
       "858                192    4.289062            3.501557   \n",
       "2959               218    4.272936            3.501557   \n",
       "1221               129    4.259690            3.501557   \n",
       "50                 204    4.237745            3.501557   \n",
       "260                251    4.231076            3.501557   \n",
       "750                 97    4.268041            3.501557   \n",
       "1213               126    4.250000            3.501557   \n",
       "527                220    4.225000            3.501557   \n",
       "58559              149    4.238255            3.501557   \n",
       "\n",
       "         overall_avg_count_rating         w        aa        ba      rank  \\\n",
       "movieId                                                                     \n",
       "318                     10.369807  0.968324  4.429022  4.399644  1.000000   \n",
       "858                     10.369807  0.948758  4.289062  4.248709  0.999897   \n",
       "2959                    10.369807  0.954592  4.272936  4.237909  0.999794   \n",
       "1221                    10.369807  0.925595  4.259690  4.203281  0.999691   \n",
       "50                      10.369807  0.951627  4.237745  4.202133  0.999589   \n",
       "260                     10.369807  0.960325  4.231076  4.202132  0.999486   \n",
       "750                     10.369807  0.903420  4.268041  4.194014  0.999383   \n",
       "1213                    10.369807  0.923958  4.250000  4.193087  0.999280   \n",
       "527                     10.369807  0.954986  4.225000  4.192435  0.999177   \n",
       "58559                   10.369807  0.934932  4.238255  4.190320  0.999074   \n",
       "\n",
       "                                                     title  \n",
       "movieId                                                     \n",
       "318                       Shawshank Redemption, The (1994)  \n",
       "858                                  Godfather, The (1972)  \n",
       "2959                                     Fight Club (1999)  \n",
       "1221                        Godfather: Part II, The (1974)  \n",
       "50                              Usual Suspects, The (1995)  \n",
       "260              Star Wars: Episode IV - A New Hope (1977)  \n",
       "750      Dr. Strangelove or: How I Learned to Stop Worr...  \n",
       "1213                                     Goodfellas (1990)  \n",
       "527                                Schindler's List (1993)  \n",
       "58559                              Dark Knight, The (2008)  "
      ]
     },
     "execution_count": 38,
     "metadata": {},
     "output_type": "execute_result"
    }
   ],
   "source": [
    "adf.sort_values('ba', ascending=False)[:10].join(ndf)"
   ]
  },
  {
   "cell_type": "code",
   "execution_count": 39,
   "metadata": {},
   "outputs": [
    {
     "data": {
      "text/html": [
       "<div>\n",
       "<style scoped>\n",
       "    .dataframe tbody tr th:only-of-type {\n",
       "        vertical-align: middle;\n",
       "    }\n",
       "\n",
       "    .dataframe tbody tr th {\n",
       "        vertical-align: top;\n",
       "    }\n",
       "\n",
       "    .dataframe thead th {\n",
       "        text-align: right;\n",
       "    }\n",
       "</style>\n",
       "<table border=\"1\" class=\"dataframe\">\n",
       "  <thead>\n",
       "    <tr style=\"text-align: right;\">\n",
       "      <th></th>\n",
       "      <th>ratings_count</th>\n",
       "      <th>avg_rating</th>\n",
       "      <th>overall_avg_rating</th>\n",
       "      <th>overall_avg_count_rating</th>\n",
       "      <th>w</th>\n",
       "      <th>aa</th>\n",
       "      <th>ba</th>\n",
       "      <th>rank</th>\n",
       "    </tr>\n",
       "    <tr>\n",
       "      <th>movieId</th>\n",
       "      <th></th>\n",
       "      <th></th>\n",
       "      <th></th>\n",
       "      <th></th>\n",
       "      <th></th>\n",
       "      <th></th>\n",
       "      <th></th>\n",
       "      <th></th>\n",
       "    </tr>\n",
       "  </thead>\n",
       "  <tbody>\n",
       "    <tr>\n",
       "      <th>119145</th>\n",
       "      <td>36</td>\n",
       "      <td>3.986111</td>\n",
       "      <td>3.501557</td>\n",
       "      <td>10.369807</td>\n",
       "      <td>0.776367</td>\n",
       "      <td>3.986111</td>\n",
       "      <td>3.877749</td>\n",
       "      <td>0.974496</td>\n",
       "    </tr>\n",
       "  </tbody>\n",
       "</table>\n",
       "</div>"
      ],
      "text/plain": [
       "         ratings_count  avg_rating  overall_avg_rating  \\\n",
       "movieId                                                  \n",
       "119145              36    3.986111            3.501557   \n",
       "\n",
       "         overall_avg_count_rating         w        aa        ba      rank  \n",
       "movieId                                                                    \n",
       "119145                  10.369807  0.776367  3.986111  3.877749  0.974496  "
      ]
     },
     "execution_count": 39,
     "metadata": {},
     "output_type": "execute_result"
    }
   ],
   "source": [
    "adf[adf.index == MOVIE_ID]"
   ]
  },
  {
   "cell_type": "markdown",
   "metadata": {},
   "source": [
    "## Computing how rank changes as and when we see more ratings"
   ]
  },
  {
   "cell_type": "code",
   "execution_count": 40,
   "metadata": {},
   "outputs": [],
   "source": [
    "def all_positions(movieId):\n",
    "    df = pd.read_csv(\"./ml-latest-small/ratings.csv\")\n",
    "    df_ratings_for_movie = df[df.movieId == movieId].sort_values('timestamp', ascending=False)\n",
    "    df = df.drop(df[df.movieId == movieId].index)\n",
    "    \n",
    "    pos = []\n",
    "    \n",
    "    items_proc = 0\n",
    "    count = 1\n",
    "    itr = df_ratings_for_movie.itertuples()\n",
    "    not_done = True\n",
    "    while not_done:\n",
    "        \n",
    "        tuples = []\n",
    "        for _ in range(count):\n",
    "            try:\n",
    "                t = next(itr)\n",
    "                tuples.append(t)\n",
    "            except StopIteration:\n",
    "                not_done = False\n",
    "                break\n",
    "        \n",
    "        items_proc += len(tuples)\n",
    "        \n",
    "        df = df.append(tuples, ignore_index=True)\n",
    "        all_aa = df.groupby('movieId')[\"rating\"].mean().sort_values(ascending=False)\n",
    "        avg_rating = df['rating'].mean()\n",
    "        avg_count_rating = df.groupby(\"movieId\")['rating'].count().mean()\n",
    "        count_ratings = df.groupby(\"movieId\").count()['rating']\n",
    "        adf = pd.DataFrame(count_ratings, columns=['rating'])\n",
    "        adf.rename(columns = {'rating':'ratings_count'}, inplace = True)\n",
    "        adf['avg_rating'] = df.groupby('movieId').mean()['rating']\n",
    "        adf['overall_avg_rating'] = avg_rating\n",
    "        adf['overall_avg_count_rating'] = avg_count_rating\n",
    "        adf['w'] = adf['ratings_count']/(adf['overall_avg_count_rating'] + adf['ratings_count'])\n",
    "        adf['aa'] = all_aa\n",
    "        adf['ba'] = adf['w'] * adf['avg_rating'] + (1-adf['w']) * adf['overall_avg_rating']\n",
    "        adf['ba_rank'] = adf.ba.rank(pct=True)\n",
    "        adf['aa_rank'] = adf.aa.rank(pct=True)\n",
    "\n",
    "        pos.append(adf[adf.index == movieId])\n",
    "        \n",
    "    return pos"
   ]
  },
  {
   "cell_type": "code",
   "execution_count": 41,
   "metadata": {},
   "outputs": [],
   "source": [
    "x = pd.concat(all_positions(MOVIE_ID))"
   ]
  },
  {
   "cell_type": "code",
   "execution_count": 42,
   "metadata": {},
   "outputs": [
    {
     "data": {
      "image/png": "[encoded data removed]",
      "text/plain": [
       "<Figure size 1728x432 with 2 Axes>"
      ]
     },
     "metadata": {
      "needs_background": "light"
     },
     "output_type": "display_data"
    }
   ],
   "source": [
    "import matplotlib.pyplot as plt\n",
    "plt.figure(figsize=(24, 6))\n",
    "\n",
    "plt.subplot(131)\n",
    "plt.title(ndf[ndf.index == MOVIE_ID].values[0][0] + \" - Arithmetic Mean\")\n",
    "plt.plot(list(x.ratings_count), list(x.aa_rank))\n",
    "plt.ylabel('Percentile Rank')\n",
    "plt.xlabel('Number of ratings')\n",
    "plt.ylim(0, 1.01)\n",
    "plt.subplot(132)\n",
    "plt.title(ndf[ndf.index == MOVIE_ID].values[0][0] + \" - Bayesian Average\")\n",
    "plt.ylabel('Percentile Rank')\n",
    "plt.xlabel('Number of ratings')\n",
    "plt.plot(list(x.ratings_count), list(x.ba_rank))\n",
    "plt.ylim(0, 1.01)\n",
    "plt.show()"
   ]
  }
 ],
 "metadata": {
  "kernelspec": {
   "display_name": "Python 3",
   "language": "python",
   "name": "python3"
  },
  "language_info": {
   "codemirror_mode": {
    "name": "ipython",
    "version": 3
   },
   "file_extension": ".py",
   "mimetype": "text/x-python",
   "name": "python",
   "nbconvert_exporter": "python",
   "pygments_lexer": "ipython3",
   "version": "3.7.6"
  }
 },
 "nbformat": 4,
 "nbformat_minor": 4
}
